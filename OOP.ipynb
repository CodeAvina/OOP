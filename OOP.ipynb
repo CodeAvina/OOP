{
 "cells": [
  {
   "cell_type": "markdown",
   "id": "c5513b73",
   "metadata": {},
   "source": [
    "OBJECT ORIENTED PROGRAMMING"
   ]
  },
  {
   "cell_type": "code",
   "execution_count": 1,
   "id": "509dfb3f",
   "metadata": {},
   "outputs": [],
   "source": [
    "class Employee:\n",
    "    salary = 350000\n",
    "    "
   ]
  },
  {
   "cell_type": "code",
   "execution_count": 3,
   "id": "49921bd7",
   "metadata": {},
   "outputs": [
    {
     "name": "stdout",
     "output_type": "stream",
     "text": [
      "350000\n"
     ]
    }
   ],
   "source": [
    "kemi = Employee()\n",
    "print(kemi.salary)"
   ]
  },
  {
   "cell_type": "code",
   "execution_count": 5,
   "id": "a7e413ce",
   "metadata": {},
   "outputs": [],
   "source": [
    "class Employee:\n",
    "    def __init__(self, name, age, salary, position, department, marital_status):\n",
    "        self.name = name\n",
    "        self.age = age\n",
    "        self.salary = salary\n",
    "        self.position = position\n",
    "        self.department = department\n",
    "        self.marital_status = marital_status\n",
    "        \n",
    "    def add_age(self):\n",
    "        self.age += 1\n",
    "        \n",
    "    def get_age(self):\n",
    "        return \"Age is {}\".format(self.age)"
   ]
  },
  {
   "cell_type": "code",
   "execution_count": 9,
   "id": "5a72c4e8",
   "metadata": {},
   "outputs": [],
   "source": [
    "staff_1 = Employee(\"kemi\", 25, 500000, \"manager\", \"Finance\", \"married\")"
   ]
  },
  {
   "cell_type": "code",
   "execution_count": 10,
   "id": "336adbb5",
   "metadata": {},
   "outputs": [
    {
     "data": {
      "text/plain": [
       "'kemi'"
      ]
     },
     "execution_count": 10,
     "metadata": {},
     "output_type": "execute_result"
    }
   ],
   "source": [
    "staff_1.name\n"
   ]
  },
  {
   "cell_type": "code",
   "execution_count": 11,
   "id": "481d7cf6",
   "metadata": {},
   "outputs": [],
   "source": [
    "staff_2 = Employee(\"chris\", 32, 250000, \"associate\", \"HR\", \"single\")"
   ]
  },
  {
   "cell_type": "code",
   "execution_count": 12,
   "id": "b852c071",
   "metadata": {},
   "outputs": [
    {
     "data": {
      "text/plain": [
       "'chris'"
      ]
     },
     "execution_count": 12,
     "metadata": {},
     "output_type": "execute_result"
    }
   ],
   "source": [
    "staff_2.name\n"
   ]
  },
  {
   "cell_type": "code",
   "execution_count": 13,
   "id": "66eb02b3",
   "metadata": {},
   "outputs": [
    {
     "data": {
      "text/plain": [
       "32"
      ]
     },
     "execution_count": 13,
     "metadata": {},
     "output_type": "execute_result"
    }
   ],
   "source": [
    "staff_2.age"
   ]
  },
  {
   "cell_type": "code",
   "execution_count": 14,
   "id": "cd6b658e",
   "metadata": {},
   "outputs": [],
   "source": [
    "staff_2.add_age()"
   ]
  },
  {
   "cell_type": "code",
   "execution_count": 15,
   "id": "644c77fe",
   "metadata": {},
   "outputs": [
    {
     "data": {
      "text/plain": [
       "33"
      ]
     },
     "execution_count": 15,
     "metadata": {},
     "output_type": "execute_result"
    }
   ],
   "source": [
    "staff_2.age"
   ]
  },
  {
   "cell_type": "code",
   "execution_count": 16,
   "id": "175a1be9",
   "metadata": {},
   "outputs": [
    {
     "data": {
      "text/plain": [
       "'Age is 33'"
      ]
     },
     "execution_count": 16,
     "metadata": {},
     "output_type": "execute_result"
    }
   ],
   "source": [
    "staff_2.get_age()"
   ]
  },
  {
   "cell_type": "markdown",
   "id": "f0b2b8d0",
   "metadata": {},
   "source": [
    "Encapsulation"
   ]
  },
  {
   "cell_type": "code",
   "execution_count": 34,
   "id": "647d5369",
   "metadata": {},
   "outputs": [],
   "source": [
    "class Sports:\n",
    "    def __init__(self):\n",
    "        self.__sportsName = \"Soccer\"\n",
    "    \n",
    "    def game(self):\n",
    "        print(\"the game is: {}\". format(self.__sportsName))\n",
    "    \n",
    "    def change_name(self, name):\n",
    "        self.__sportsName = name"
   ]
  },
  {
   "cell_type": "code",
   "execution_count": 35,
   "id": "6bc409fb",
   "metadata": {},
   "outputs": [
    {
     "name": "stdout",
     "output_type": "stream",
     "text": [
      "the game is: Soccer\n"
     ]
    }
   ],
   "source": [
    "s = Sports()\n",
    "s.game()"
   ]
  },
  {
   "cell_type": "code",
   "execution_count": 36,
   "id": "6d2d6789",
   "metadata": {},
   "outputs": [
    {
     "name": "stdout",
     "output_type": "stream",
     "text": [
      "the game is: Soccer\n"
     ]
    }
   ],
   "source": [
    "s.__sportsName = 'Hockey'\n",
    "s.game()"
   ]
  },
  {
   "cell_type": "code",
   "execution_count": 37,
   "id": "16e09aa5",
   "metadata": {},
   "outputs": [
    {
     "name": "stdout",
     "output_type": "stream",
     "text": [
      "the game is: Hockey\n"
     ]
    }
   ],
   "source": [
    "s.change_name('Hockey')\n",
    "s.game()"
   ]
  },
  {
   "cell_type": "code",
   "execution_count": null,
   "id": "fb62ef49",
   "metadata": {},
   "outputs": [],
   "source": []
  }
 ],
 "metadata": {
  "kernelspec": {
   "display_name": "Python 3 (ipykernel)",
   "language": "python",
   "name": "python3"
  },
  "language_info": {
   "codemirror_mode": {
    "name": "ipython",
    "version": 3
   },
   "file_extension": ".py",
   "mimetype": "text/x-python",
   "name": "python",
   "nbconvert_exporter": "python",
   "pygments_lexer": "ipython3",
   "version": "3.9.12"
  }
 },
 "nbformat": 4,
 "nbformat_minor": 5
}
